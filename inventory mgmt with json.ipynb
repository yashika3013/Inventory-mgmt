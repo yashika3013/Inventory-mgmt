{
 "cells": [
  {
   "cell_type": "code",
   "execution_count": 14,
   "id": "53b3c2b5",
   "metadata": {},
   "outputs": [
    {
     "name": "stdout",
     "output_type": "stream",
     "text": [
      "----------------MENU------------------\n",
      "1 : 5 Star | 5 | 860\n",
      "2 : Candy | 10 | 500\n",
      "3 : MilkyBar | 10 | 70\n",
      "4 : Chocolate Cake | 100 | 150\n",
      "5 : Blueberry Cake | 150 | 100\n",
      "6 : Dairy Milk | 10 | 50\n",
      "--------------------------------------\n",
      "Enter your name: karan\n",
      "Enter your mail id: karan@gmail.com\n",
      "Enter your number: 9891040605\n",
      "Enter product id : 5\n",
      "Enter Quantity   : 10\n",
      "--------------------------------------\n",
      "                Bill                 \n",
      "\n",
      "Name             : Blueberry Cake\n",
      "Price            : 150 Rs\n",
      "Quantity         : 10\n",
      "--------------------------------------\n",
      "Billing Amount   : 1500.0\n",
      "Discount 10%     -  150.0\n",
      "--------------------------------------\n",
      "Total           :  1350.0 Rs\n",
      "--------------------------------------\n",
      "\n",
      "--------------------------------------------\n",
      " Thanks for your order. Inventory Updated! \n",
      "--------------------------------------------\n"
     ]
    }
   ],
   "source": [
    "import json\n",
    "import time\n",
    "\n",
    "sale='' \n",
    "\n",
    "fd=open(\"Records.json\",'r')\n",
    "js=fd.read()\n",
    "fd.close()\n",
    "\n",
    "record = json.loads(js)\n",
    "\n",
    "print('----------------MENU------------------')\n",
    "\n",
    "for key in record.keys():\n",
    "    print(key,\":\",record[key]['Name'],'|',record[key]['Price'],'|',record[key]['Quantity'])\n",
    "print('--------------------------------------')\n",
    "\n",
    "ui_name=str(input('Enter your name: '))\n",
    "ui_email_id=str(input(\"Enter your mail id: \"))\n",
    "ui_phone_number=str(input('Enter your number: '))\n",
    "ui_pr=str(input('Enter product id : '))\n",
    "ui_qn=int(input('Enter Quantity   : '))\n",
    "\n",
    "if record[ui_pr]['Quantity']>=ui_qn:\n",
    "    record[ui_pr]['Quantity']=record[ui_pr]['Quantity']-ui_qn\n",
    "    print('--------------------------------------')\n",
    "    print('                Bill                 \\n')\n",
    "    print('Name             :',record[ui_pr]['Name'])\n",
    "    print('Price            :',record[ui_pr]['Price'],'Rs')\n",
    "    print('Quantity         :',ui_qn)\n",
    "    print('--------------------------------------')\n",
    "    amt=record[ui_pr]['Price'] * ui_qn\n",
    "    print('Billing Amount   :',float(amt))\n",
    "    if amt >= 500:\n",
    "        dis=amt*10/100\n",
    "        amt=amt-dis\n",
    "    print('Discount 10%     - ',dis)\n",
    "    print('--------------------------------------')\n",
    "    print('Total           : ',amt,'Rs')\n",
    "    print('--------------------------------------')\n",
    "    sale = ui_name+','+ui_email_id+','+ui_phone_number+','+ui_pr+','+record[ui_pr]['Name']+','+str(record[ui_pr]['Price'])+','+str(record[ui_pr]['Price'] * ui_qn)+','+time.ctime()+'\\n'\n",
    "    \n",
    "else:\n",
    "    print('Sorry we do not have enough Quantity')\n",
    "    print('We only have',record[ui_pr]['Quantity'] ,'this much quantity')\n",
    "    choice=input('Press Y/y to purchase: ')\n",
    "    \n",
    "    if(choice=='Y' or choice == 'y'):\n",
    "        print('--------------------------------------')\n",
    "        print('                Bill                 \\n')\n",
    "        print('Name             :',record[ui_pr]['Name'])\n",
    "        print('Price            :',record[ui_pr]['Price'],'Rs')\n",
    "        print('Quantity         :',record[ui_pr]['Quantity'])\n",
    "        print('--------------------------------------')\n",
    "        amt = record[ui_pr]['Price'] * record[ui_pr]['Quantity']\n",
    "        print('Billing Amount   :',float(amt))\n",
    "        if amt >= 500:\n",
    "            dis=amt*10/100\n",
    "            amt=amt-dis\n",
    "        print('Discount 10%     - ',dis)\n",
    "        print('--------------------------------------')\n",
    "        print('Total           : ',amt,'Rs')\n",
    "        print('--------------------------------------')\n",
    "        \n",
    "        sale = ui_name+','+ui_email_id+','+ui_phone_number+','+ui_pr+','+record[ui_pr]['Name']+','+str(record[ui_pr]['Price'])+','+str(record[ui_pr]['Price'] * record[ui_pr]['Quantity'])+','+time.ctime()+'\\n'\n",
    "        record[ui_pr]['Quantity']=0\n",
    "    else:\n",
    "        print('Thankyou!')\n",
    "\n",
    "        \n",
    "js=json.dumps(record)\n",
    "fd = open(\"Records.json\",'w')\n",
    "fd.write(js)\n",
    "fd.close()\n",
    "\n",
    "fd=open('Sale.txt','a')\n",
    "fd.write(sale)\n",
    "fd.close()\n",
    "\n",
    "print('')\n",
    "print('--------------------------------------------')\n",
    "print(' Thanks for your order. Inventory Updated! ')\n",
    "print('--------------------------------------------')"
   ]
  },
  {
   "cell_type": "code",
   "execution_count": 13,
   "id": "c97974fe",
   "metadata": {},
   "outputs": [
    {
     "data": {
      "text/plain": [
       "{'1': {'Name': '5 Star', 'Price': 5, 'Quantity': 860},\n",
       " '2': {'Name': 'Candy', 'Price': 10, 'Quantity': 500},\n",
       " '3': {'Name': 'MilkyBar', 'Price': 10, 'Quantity': 70},\n",
       " '4': {'Name': 'Chocolate Cake', 'Price': 100, 'Quantity': 0},\n",
       " '5': {'Name': 'Blueberry Cake', 'Price': 150, 'Quantity': 0},\n",
       " '6': {'Name': 'Dairy Milk', 'Price': 10, 'Quantity': 50}}"
      ]
     },
     "execution_count": 13,
     "metadata": {},
     "output_type": "execute_result"
    }
   ],
   "source": [
    "record"
   ]
  },
  {
   "cell_type": "code",
   "execution_count": null,
   "id": "2ad47ca6",
   "metadata": {},
   "outputs": [],
   "source": []
  },
  {
   "cell_type": "code",
   "execution_count": null,
   "id": "c35fdd6c",
   "metadata": {},
   "outputs": [],
   "source": []
  }
 ],
 "metadata": {
  "kernelspec": {
   "display_name": "Python 3 (ipykernel)",
   "language": "python",
   "name": "python3"
  },
  "language_info": {
   "codemirror_mode": {
    "name": "ipython",
    "version": 3
   },
   "file_extension": ".py",
   "mimetype": "text/x-python",
   "name": "python",
   "nbconvert_exporter": "python",
   "pygments_lexer": "ipython3",
   "version": "3.11.4"
  }
 },
 "nbformat": 4,
 "nbformat_minor": 5
}
